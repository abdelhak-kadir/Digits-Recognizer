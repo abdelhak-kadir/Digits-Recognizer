{
 "cells": [
  {
   "cell_type": "markdown",
   "id": "809fef42-d28b-48b4-8fd3-37ef97dc430f",
   "metadata": {},
   "source": [
    "# Digits Recognizer Using MNIST Dataset"
   ]
  },
  {
   "cell_type": "markdown",
   "id": "aa045f1d-016a-4148-9c93-f89f18a03f23",
   "metadata": {},
   "source": [
    "#### Importing necessary libraries"
   ]
  },
  {
   "cell_type": "code",
   "execution_count": 151,
   "id": "471a290b-73c7-4a31-a387-e2e2555fba70",
   "metadata": {},
   "outputs": [],
   "source": [
    "import tensorflow as tf\n",
    "from tensorflow.keras.datasets import mnist\n",
    "import numpy as np\n",
    "import matplotlib.pyplot as plt\n",
    "import random\n",
    "from keras.models import Sequential\n",
    "from keras.layers import Dense\n",
    "from keras.optimizers import SGD "
   ]
  },
  {
   "cell_type": "markdown",
   "id": "633852a1-4158-4e77-8d84-ff1019aae17d",
   "metadata": {},
   "source": [
    "#### Load data from mnist datasets"
   ]
  },
  {
   "cell_type": "code",
   "execution_count": 110,
   "id": "bfe951b2-e8b7-428a-8111-3c6142e95f2b",
   "metadata": {},
   "outputs": [],
   "source": [
    "(x_train , y_train),(x_test,y_test)= mnist.load_data()"
   ]
  },
  {
   "cell_type": "code",
   "execution_count": 111,
   "id": "b6cbc64d-e5bf-4f0e-be2d-73e2d1d2b86f",
   "metadata": {},
   "outputs": [
    {
     "data": {
      "text/plain": [
       "(60000,)"
      ]
     },
     "execution_count": 111,
     "metadata": {},
     "output_type": "execute_result"
    }
   ],
   "source": [
    "x_train.shape\n",
    "y_train.shape"
   ]
  },
  {
   "cell_type": "markdown",
   "id": "7ce0e372-bfc4-4ec1-9af4-e5709058816d",
   "metadata": {},
   "source": [
    "#### Randomly Selected Image from Training Dataset "
   ]
  },
  {
   "cell_type": "code",
   "execution_count": 112,
   "id": "5139dfdd-bc93-4bdc-9233-afbfe2dfd159",
   "metadata": {},
   "outputs": [
    {
     "name": "stdout",
     "output_type": "stream",
     "text": [
      "(28, 28)\n",
      "number is : 3\n"
     ]
    },
    {
     "data": {
      "text/plain": [
       "<matplotlib.image.AxesImage at 0x248c1b2d8d0>"
      ]
     },
     "execution_count": 112,
     "metadata": {},
     "output_type": "execute_result"
    },
    {
     "data": {
      "image/png": "[encoded data removed]",
      "text/plain": [
       "<Figure size 640x480 with 1 Axes>"
      ]
     },
     "metadata": {},
     "output_type": "display_data"
    }
   ],
   "source": [
    "idx = random.randint(0,x_train.shape[0]-1)\n",
    "img2show , label = x_train[idx] , y_train[idx]\n",
    "print(img2show.shape)\n",
    "print(f'number is : {label}')\n",
    "plt.imshow(img2show , cmap='gray')"
   ]
  },
  {
   "cell_type": "markdown",
   "id": "0eaba35b-0d3d-4d7c-9f89-450bdd1263bf",
   "metadata": {},
   "source": [
    "#### Flattening Image Data for Neural Network Input"
   ]
  },
  {
   "cell_type": "code",
   "execution_count": 113,
   "id": "fd36aae0-0bf4-4216-89f7-f9b6d8659540",
   "metadata": {},
   "outputs": [],
   "source": [
    "x_train , x_test = x_train.reshape(-1,28*28) , x_test.reshape(-1,28*28)"
   ]
  },
  {
   "cell_type": "code",
   "execution_count": 114,
   "id": "1a434990-2908-4fa3-9cc0-02461e353dc7",
   "metadata": {},
   "outputs": [
    {
     "data": {
      "text/plain": [
       "(60000, 784)"
      ]
     },
     "execution_count": 114,
     "metadata": {},
     "output_type": "execute_result"
    }
   ],
   "source": [
    "x_train.shape"
   ]
  },
  {
   "cell_type": "markdown",
   "id": "7b40d9f5-4124-49f7-9cec-346b079041d1",
   "metadata": {},
   "source": [
    "#### Flattening Image Data for Neural Network Output"
   ]
  },
  {
   "cell_type": "code",
   "execution_count": 115,
   "id": "65fb82e9-f87d-4c2f-836e-53cb4e126e6e",
   "metadata": {},
   "outputs": [],
   "source": [
    "y_train , y_test = tf.keras.utils.to_categorical(y_train,10) ,tf.keras.utils.to_categorical(y_test,10) "
   ]
  },
  {
   "cell_type": "code",
   "execution_count": 116,
   "id": "6a5d2672-1bfe-418d-b556-1ab00fe14fb1",
   "metadata": {},
   "outputs": [
    {
     "data": {
      "text/plain": [
       "(60000, 10)"
      ]
     },
     "execution_count": 116,
     "metadata": {},
     "output_type": "execute_result"
    }
   ],
   "source": [
    "y_train.shape"
   ]
  },
  {
   "cell_type": "markdown",
   "id": "84eab044-a3df-4dc0-a187-8176ec9f4ddf",
   "metadata": {},
   "source": [
    "#### Normalization data"
   ]
  },
  {
   "cell_type": "code",
   "execution_count": 117,
   "id": "5bad1bbe-9bfa-4c36-94a8-c28481026b90",
   "metadata": {},
   "outputs": [],
   "source": [
    "x_train , x_test = x_train/255.0 , x_test/255.0"
   ]
  },
  {
   "cell_type": "markdown",
   "id": "b5a74132-cca1-4976-b46c-40cda7234aec",
   "metadata": {},
   "source": [
    "#### Define Neural Network Model"
   ]
  },
  {
   "cell_type": "code",
   "execution_count": 119,
   "id": "dc7e4cee-211a-4ab1-8959-083205ac1f29",
   "metadata": {},
   "outputs": [
    {
     "name": "stdout",
     "output_type": "stream",
     "text": [
      "Model: \"sequential_13\"\n",
      "_________________________________________________________________\n",
      " Layer (type)                Output Shape              Param #   \n",
      "=================================================================\n",
      " dense_33 (Dense)            (None, 784)               615440    \n",
      "                                                                 \n",
      " dense_34 (Dense)            (None, 33)                25905     \n",
      "                                                                 \n",
      " dense_35 (Dense)            (None, 10)                340       \n",
      "                                                                 \n",
      "=================================================================\n",
      "Total params: 641685 (2.45 MB)\n",
      "Trainable params: 641685 (2.45 MB)\n",
      "Non-trainable params: 0 (0.00 Byte)\n",
      "_________________________________________________________________\n"
     ]
    }
   ],
   "source": [
    "model = Sequential()\n",
    "model.add(Dense(784 , activation='relu' ,input_shape=(784,)))\n",
    "model.add(Dense(33 , activation='relu'))\n",
    "model.add(Dense(10 , activation='softmax'))\n",
    "model.summary()"
   ]
  },
  {
   "cell_type": "code",
   "execution_count": 120,
   "id": "9ef9c44c-f041-4a91-9edd-3eb5ea4314b3",
   "metadata": {},
   "outputs": [],
   "source": [
    "model.compile(optimizer='SGD' , loss='categorical_crossentropy' , metrics = ['accuracy'] )"
   ]
  },
  {
   "cell_type": "markdown",
   "id": "c8dda58b-4050-4feb-aee9-48d1f1043ab6",
   "metadata": {},
   "source": [
    "#### Training the model"
   ]
  },
  {
   "cell_type": "code",
   "execution_count": 131,
   "id": "3685b7f1-e1d8-4cbf-be38-e3d601289c41",
   "metadata": {},
   "outputs": [
    {
     "name": "stdout",
     "output_type": "stream",
     "text": [
      "Epoch 1/30\n",
      "1819/1819 [==============================] - 16s 8ms/step - loss: 0.5836 - accuracy: 0.8502 - val_loss: 0.3028 - val_accuracy: 0.9145\n",
      "Epoch 2/30\n",
      "1819/1819 [==============================] - 17s 9ms/step - loss: 0.2691 - accuracy: 0.9243 - val_loss: 0.2375 - val_accuracy: 0.9312\n",
      "Epoch 3/30\n",
      "1819/1819 [==============================] - 16s 9ms/step - loss: 0.2169 - accuracy: 0.9385 - val_loss: 0.1951 - val_accuracy: 0.9443\n",
      "Epoch 4/30\n",
      "1819/1819 [==============================] - 17s 9ms/step - loss: 0.1829 - accuracy: 0.9485 - val_loss: 0.1710 - val_accuracy: 0.9512\n",
      "Epoch 5/30\n",
      "1819/1819 [==============================] - 18s 10ms/step - loss: 0.1584 - accuracy: 0.9560 - val_loss: 0.1544 - val_accuracy: 0.9548\n",
      "Epoch 6/30\n",
      "1819/1819 [==============================] - 18s 10ms/step - loss: 0.1390 - accuracy: 0.9606 - val_loss: 0.1416 - val_accuracy: 0.9590\n",
      "Epoch 7/30\n",
      "1819/1819 [==============================] - 18s 10ms/step - loss: 0.1241 - accuracy: 0.9656 - val_loss: 0.1320 - val_accuracy: 0.9632\n",
      "Epoch 8/30\n",
      "1819/1819 [==============================] - 18s 10ms/step - loss: 0.1115 - accuracy: 0.9684 - val_loss: 0.1172 - val_accuracy: 0.9655\n",
      "Epoch 9/30\n",
      "1819/1819 [==============================] - 19s 10ms/step - loss: 0.1005 - accuracy: 0.9718 - val_loss: 0.1080 - val_accuracy: 0.9687\n",
      "Epoch 10/30\n",
      "1819/1819 [==============================] - 18s 10ms/step - loss: 0.0912 - accuracy: 0.9745 - val_loss: 0.1017 - val_accuracy: 0.9695\n",
      "Epoch 11/30\n",
      "1819/1819 [==============================] - 18s 10ms/step - loss: 0.0832 - accuracy: 0.9765 - val_loss: 0.0988 - val_accuracy: 0.9705\n",
      "Epoch 12/30\n",
      "1819/1819 [==============================] - 19s 10ms/step - loss: 0.0762 - accuracy: 0.9789 - val_loss: 0.0963 - val_accuracy: 0.9716\n",
      "Epoch 13/30\n",
      "1819/1819 [==============================] - 19s 10ms/step - loss: 0.0700 - accuracy: 0.9808 - val_loss: 0.0880 - val_accuracy: 0.9736\n",
      "Epoch 14/30\n",
      "1819/1819 [==============================] - 18s 10ms/step - loss: 0.0643 - accuracy: 0.9827 - val_loss: 0.0825 - val_accuracy: 0.9737\n",
      "Epoch 15/30\n",
      "1819/1819 [==============================] - 19s 10ms/step - loss: 0.0596 - accuracy: 0.9839 - val_loss: 0.0812 - val_accuracy: 0.9754\n",
      "Epoch 16/30\n",
      "1819/1819 [==============================] - 18s 10ms/step - loss: 0.0552 - accuracy: 0.9851 - val_loss: 0.0795 - val_accuracy: 0.9752\n",
      "Epoch 17/30\n",
      "1819/1819 [==============================] - 18s 10ms/step - loss: 0.0513 - accuracy: 0.9863 - val_loss: 0.0767 - val_accuracy: 0.9766\n",
      "Epoch 18/30\n",
      "1819/1819 [==============================] - 18s 10ms/step - loss: 0.0476 - accuracy: 0.9878 - val_loss: 0.0740 - val_accuracy: 0.9775\n",
      "Epoch 19/30\n",
      "1819/1819 [==============================] - 19s 11ms/step - loss: 0.0443 - accuracy: 0.9887 - val_loss: 0.0787 - val_accuracy: 0.9760\n",
      "Epoch 20/30\n",
      "1819/1819 [==============================] - 19s 10ms/step - loss: 0.0413 - accuracy: 0.9897 - val_loss: 0.0732 - val_accuracy: 0.9758\n",
      "Epoch 21/30\n",
      "1819/1819 [==============================] - 18s 10ms/step - loss: 0.0386 - accuracy: 0.9906 - val_loss: 0.0705 - val_accuracy: 0.9789\n",
      "Epoch 22/30\n",
      "1819/1819 [==============================] - 18s 10ms/step - loss: 0.0360 - accuracy: 0.9913 - val_loss: 0.0755 - val_accuracy: 0.9753\n",
      "Epoch 23/30\n",
      "1819/1819 [==============================] - 19s 10ms/step - loss: 0.0335 - accuracy: 0.9923 - val_loss: 0.0673 - val_accuracy: 0.9786\n",
      "Epoch 24/30\n",
      "1819/1819 [==============================] - 18s 10ms/step - loss: 0.0315 - accuracy: 0.9927 - val_loss: 0.0670 - val_accuracy: 0.9786\n",
      "Epoch 25/30\n",
      "1819/1819 [==============================] - 19s 11ms/step - loss: 0.0294 - accuracy: 0.9933 - val_loss: 0.0669 - val_accuracy: 0.9796\n",
      "Epoch 26/30\n",
      "1819/1819 [==============================] - 19s 11ms/step - loss: 0.0276 - accuracy: 0.9942 - val_loss: 0.0660 - val_accuracy: 0.9795\n",
      "Epoch 27/30\n",
      "1819/1819 [==============================] - 19s 10ms/step - loss: 0.0258 - accuracy: 0.9946 - val_loss: 0.0674 - val_accuracy: 0.9790\n",
      "Epoch 28/30\n",
      "1819/1819 [==============================] - 20s 11ms/step - loss: 0.0243 - accuracy: 0.9951 - val_loss: 0.0654 - val_accuracy: 0.9790\n",
      "Epoch 29/30\n",
      "1819/1819 [==============================] - 20s 11ms/step - loss: 0.0227 - accuracy: 0.9955 - val_loss: 0.0643 - val_accuracy: 0.9804\n",
      "Epoch 30/30\n",
      "1819/1819 [==============================] - 20s 11ms/step - loss: 0.0213 - accuracy: 0.9960 - val_loss: 0.0640 - val_accuracy: 0.9806\n"
     ]
    },
    {
     "data": {
      "text/plain": [
       "<keras.src.callbacks.History at 0x248af92b950>"
      ]
     },
     "execution_count": 131,
     "metadata": {},
     "output_type": "execute_result"
    }
   ],
   "source": [
    "model.fit(x_train , y_train , epochs=30 , batch_size = 33 , validation_data=(x_test,y_test))"
   ]
  },
  {
   "cell_type": "markdown",
   "id": "800c1baf-d00b-4066-8345-c7192037741c",
   "metadata": {},
   "source": [
    "#### Testing a Trained Neural Network Model on a Random Image from the Test Dataset"
   ]
  },
  {
   "cell_type": "code",
   "execution_count": 149,
   "id": "e2002c06-d906-4cb2-a7d8-4dba8099222f",
   "metadata": {},
   "outputs": [
    {
     "name": "stdout",
     "output_type": "stream",
     "text": [
      "1/1 [==============================] - 0s 62ms/step\n",
      "the predicted label is 7 and the true label is 7\n"
     ]
    },
    {
     "data": {
      "text/plain": [
       "<matplotlib.image.AxesImage at 0x248a884c9d0>"
      ]
     },
     "execution_count": 149,
     "metadata": {},
     "output_type": "execute_result"
    },
    {
     "data": {
      "image/png": "[encoded data removed]",
      "text/plain": [
       "<Figure size 640x480 with 1 Axes>"
      ]
     },
     "metadata": {},
     "output_type": "display_data"
    }
   ],
   "source": [
    "idx_test = random.randint(0,x_test.shape[0]-1)\n",
    "img_test = x_test[idx_test]\n",
    "img_test = np.expand_dims(img_test,axis=0)\n",
    "prediction = model.predict(img_test)\n",
    "predict_label = np.argmax(prediction)\n",
    "true_label = y_test[idx_test]\n",
    "print(f'the predicted label is {predict_label} and the true label is {np.argmax(true_label)}')\n",
    "plt.imshow(x_test[idx_test].reshape(28,28),cmap='gray')"
   ]
  },
  {
   "cell_type": "code",
   "execution_count": null,
   "id": "8076999a-330b-4078-bf9c-4976fc334458",
   "metadata": {},
   "outputs": [],
   "source": []
  },
  {
   "cell_type": "markdown",
   "id": "b5b420ab-e447-41d8-9ced-bdeff8e077d1",
   "metadata": {},
   "source": [
    "### Released By AIT KADIR Abdelhak"
   ]
  },
  {
   "cell_type": "code",
   "execution_count": null,
   "id": "02b2d07c-798c-4c5f-b51e-d8e147e6ffc3",
   "metadata": {},
   "outputs": [],
   "source": []
  }
 ],
 "metadata": {
  "kernelspec": {
   "display_name": "Python 3 (ipykernel)",
   "language": "python",
   "name": "python3"
  },
  "language_info": {
   "codemirror_mode": {
    "name": "ipython",
    "version": 3
   },
   "file_extension": ".py",
   "mimetype": "text/x-python",
   "name": "python",
   "nbconvert_exporter": "python",
   "pygments_lexer": "ipython3",
   "version": "3.11.1"
  }
 },
 "nbformat": 4,
 "nbformat_minor": 5
}
